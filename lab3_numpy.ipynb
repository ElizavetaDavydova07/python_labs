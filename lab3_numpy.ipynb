{
 "cells": [
  {
   "cell_type": "markdown",
   "metadata": {},
   "source": [
    "# Отчет по лабораторной работе №3\"NumPy\"\n",
    "## Выполнила студентка группы T12О-101М-20\n",
    "## \"Управление продуктовой разработкой it сервисов\"\n",
    "\n",
    "### Давыдова Елизавета\n",
    "#### 07.11.2020"
   ]
  },
  {
   "cell_type": "code",
   "execution_count": 2,
   "metadata": {},
   "outputs": [],
   "source": [
    "import numpy as np"
   ]
  },
  {
   "cell_type": "markdown",
   "metadata": {},
   "source": [
    "Дан вектор [1, 2, 3, 4, 5], построить новый вектор с тремя нулями между каждым значением"
   ]
  },
  {
   "cell_type": "code",
   "execution_count": 13,
   "metadata": {},
   "outputs": [
    {
     "name": "stdout",
     "output_type": "stream",
     "text": [
      "[0. 0. 0. 0. 0. 0. 0. 0. 0. 0. 0. 0. 0. 0. 0. 0. 0.]\n",
      "[1. 0. 0. 0. 2. 0. 0. 0. 3. 0. 0. 0. 4. 0. 0. 0. 5.]\n"
     ]
    }
   ],
   "source": [
    "v = np.array([1,2,3,4,5])\n",
    "z = np.zeros((len(v)-1)*3 + len(v))\n",
    "print(z)\n",
    "z[::4] = v\n",
    "print(z)"
   ]
  },
  {
   "cell_type": "markdown",
   "metadata": {},
   "source": [
    "Поменять 2 строки в матрице"
   ]
  },
  {
   "cell_type": "code",
   "execution_count": 22,
   "metadata": {},
   "outputs": [
    {
     "name": "stdout",
     "output_type": "stream",
     "text": [
      "[[0 1]\n",
      " [2 3]\n",
      " [4 5]\n",
      " [6 7]]\n",
      "[[0 1]\n",
      " [4 5]\n",
      " [2 3]\n",
      " [6 7]]\n"
     ]
    }
   ],
   "source": [
    "A = np.arange(8).reshape(4,2)\n",
    "print(A)\n",
    "A[[1,2]] = A[[2,1]]\n",
    "print(A)"
   ]
  },
  {
   "cell_type": "markdown",
   "metadata": {},
   "source": [
    "Рассмотрим набор из 10 троек, описывающих 10 треугольников (с общими вершинами), найти множество уникальных отрезков, составляющих все треугольники\n"
   ]
  },
  {
   "cell_type": "code",
   "execution_count": 44,
   "metadata": {},
   "outputs": [
    {
     "name": "stdout",
     "output_type": "stream",
     "text": [
      "[( 0,  1) ( 0, 16) ( 0, 19) ( 0, 23) ( 1, 16) ( 4,  6) ( 4, 28) ( 5, 16)\n",
      " ( 5, 21) ( 6,  6) ( 6, 27) ( 6, 28) ( 8, 13) ( 8, 25) ( 8, 27) (10, 13)\n",
      " (10, 22) (13, 22) (13, 25) (14, 17) (14, 18) (14, 20) (14, 24) (16, 21)\n",
      " (17, 20) (18, 24) (19, 23) (25, 27)]\n"
     ]
    }
   ],
   "source": [
    "set_of_points = np.random.randint(0,30,(10,3))\n",
    "a = np.roll(set_of_points.repeat(2,axis=1),-1,axis=1)\n",
    "a = a.reshape(len(a)*3,2)\n",
    "a = np.sort(a,axis=1)\n",
    "b = a.view( dtype=[('p0',a.dtype),('p1',a.dtype)] )\n",
    "b = np.unique(b)\n",
    "print(b)"
   ]
  },
  {
   "cell_type": "markdown",
   "metadata": {},
   "source": [
    "Дан вектор Z, построить матрицу, первая строка которой (Z[0],Z[1],Z[2]), каждая последующая сдвинута на 1 (последняя (Z[-3],Z[-2],Z[-1]))"
   ]
  },
  {
   "cell_type": "code",
   "execution_count": 52,
   "metadata": {},
   "outputs": [
    {
     "name": "stdout",
     "output_type": "stream",
     "text": [
      "[[0 1 2]\n",
      " [1 2 3]\n",
      " [2 3 4]\n",
      " [3 4 5]]\n",
      "[0 1 2 3 4 5]\n"
     ]
    }
   ],
   "source": [
    "from numpy.lib import stride_tricks\n",
    "\n",
    "def rolling(a, window):\n",
    "    shape = (a.size - window + 1, window)\n",
    "    strides = (a.itemsize, a.itemsize)\n",
    "    return stride_tricks.as_strided(a, shape=shape, strides=strides)\n",
    "Z = rolling(np.arange(6), 3)\n",
    "print(Z)\n",
    "print(np.arange(6))"
   ]
  },
  {
   "cell_type": "markdown",
   "metadata": {},
   "source": [
    "Инвертировать булево значение, или поменять знак у числового массива без создания нового"
   ]
  },
  {
   "cell_type": "code",
   "execution_count": 60,
   "metadata": {},
   "outputs": [
    {
     "name": "stdout",
     "output_type": "stream",
     "text": [
      "[0 1 1 1 1 0 0 0 1 0 1 1 1 1 1 0 1 1 0 0 0 0 1 1 0 1 1 1 0 0]\n",
      "[1 0 0 0 0 1 1 1 0 1 0 0 0 0 0 1 0 0 1 1 1 1 0 0 1 0 0 0 1 1]\n",
      "[-1 -1  0  1  0  0  0  0  0  1]\n",
      "[ 1  1  0 -1  0  0  0  0  0 -1]\n"
     ]
    }
   ],
   "source": [
    "a = np.random.randint(0,2,30)\n",
    "print(a)\n",
    "np.logical_not(a, out=a)\n",
    "print(a)\n",
    "\n",
    "b = np.random.randint(-1,2,10)\n",
    "print(b)\n",
    "np.negative(b, out=b)\n",
    "print(b)"
   ]
  },
  {
   "cell_type": "markdown",
   "metadata": {},
   "source": [
    "Посчитать ранг матрицы\n"
   ]
  },
  {
   "cell_type": "code",
   "execution_count": 64,
   "metadata": {},
   "outputs": [
    {
     "name": "stdout",
     "output_type": "stream",
     "text": [
      "[[0 1]\n",
      " [2 3]\n",
      " [4 5]\n",
      " [6 7]]\n",
      "2\n"
     ]
    }
   ],
   "source": [
    "a = np.arange(8).reshape(4,2)\n",
    "print(a)\n",
    "print(np.linalg.matrix_rank(Z))"
   ]
  },
  {
   "cell_type": "markdown",
   "metadata": {},
   "source": [
    "Найти наиболее частое значение в массиве"
   ]
  },
  {
   "cell_type": "code",
   "execution_count": 71,
   "metadata": {},
   "outputs": [
    {
     "name": "stdout",
     "output_type": "stream",
     "text": [
      "[0 4 2 4 1 2 0 0 4 2 1 4 4 3 4 3 1 3 0 4 2 1 0 4 1 0 4 1 2 1]\n",
      "[6 7 5 3 9]\n",
      "4\n"
     ]
    }
   ],
   "source": [
    "a = np.random.randint(0,5,30)\n",
    "print(a)\n",
    "k = np.bincount(a)\n",
    "print(k)\n",
    "print(k.argmax())"
   ]
  },
  {
   "cell_type": "markdown",
   "metadata": {},
   "source": [
    "Извлечь все смежные 3x3 блоки из 10x10 матрицы\n"
   ]
  },
  {
   "cell_type": "code",
   "execution_count": 12,
   "metadata": {},
   "outputs": [
    {
     "name": "stdout",
     "output_type": "stream",
     "text": [
      "[[[[4 3 3]\n",
      "   [3 3 1]\n",
      "   [2 3 3]]\n",
      "\n",
      "  [[3 3 1]\n",
      "   [3 1 0]\n",
      "   [3 3 0]]\n",
      "\n",
      "  [[3 1 0]\n",
      "   [1 0 2]\n",
      "   [3 0 1]]\n",
      "\n",
      "  [[1 0 1]\n",
      "   [0 2 1]\n",
      "   [0 1 4]]\n",
      "\n",
      "  [[0 1 4]\n",
      "   [2 1 4]\n",
      "   [1 4 1]]\n",
      "\n",
      "  [[1 4 1]\n",
      "   [1 4 4]\n",
      "   [4 1 2]]\n",
      "\n",
      "  [[4 1 3]\n",
      "   [4 4 2]\n",
      "   [1 2 0]]\n",
      "\n",
      "  [[1 3 4]\n",
      "   [4 2 2]\n",
      "   [2 0 2]]]\n",
      "\n",
      "\n",
      " [[[3 3 1]\n",
      "   [2 3 3]\n",
      "   [0 4 4]]\n",
      "\n",
      "  [[3 1 0]\n",
      "   [3 3 0]\n",
      "   [4 4 4]]\n",
      "\n",
      "  [[1 0 2]\n",
      "   [3 0 1]\n",
      "   [4 4 3]]\n",
      "\n",
      "  [[0 2 1]\n",
      "   [0 1 4]\n",
      "   [4 3 3]]\n",
      "\n",
      "  [[2 1 4]\n",
      "   [1 4 1]\n",
      "   [3 3 2]]\n",
      "\n",
      "  [[1 4 4]\n",
      "   [4 1 2]\n",
      "   [3 2 2]]\n",
      "\n",
      "  [[4 4 2]\n",
      "   [1 2 0]\n",
      "   [2 2 3]]\n",
      "\n",
      "  [[4 2 2]\n",
      "   [2 0 2]\n",
      "   [2 3 2]]]\n",
      "\n",
      "\n",
      " [[[2 3 3]\n",
      "   [0 4 4]\n",
      "   [3 2 3]]\n",
      "\n",
      "  [[3 3 0]\n",
      "   [4 4 4]\n",
      "   [2 3 0]]\n",
      "\n",
      "  [[3 0 1]\n",
      "   [4 4 3]\n",
      "   [3 0 3]]\n",
      "\n",
      "  [[0 1 4]\n",
      "   [4 3 3]\n",
      "   [0 3 4]]\n",
      "\n",
      "  [[1 4 1]\n",
      "   [3 3 2]\n",
      "   [3 4 4]]\n",
      "\n",
      "  [[4 1 2]\n",
      "   [3 2 2]\n",
      "   [4 4 0]]\n",
      "\n",
      "  [[1 2 0]\n",
      "   [2 2 3]\n",
      "   [4 0 3]]\n",
      "\n",
      "  [[2 0 2]\n",
      "   [2 3 2]\n",
      "   [0 3 1]]]\n",
      "\n",
      "\n",
      " [[[0 4 4]\n",
      "   [3 2 3]\n",
      "   [3 2 3]]\n",
      "\n",
      "  [[4 4 4]\n",
      "   [2 3 0]\n",
      "   [2 3 2]]\n",
      "\n",
      "  [[4 4 3]\n",
      "   [3 0 3]\n",
      "   [3 2 4]]\n",
      "\n",
      "  [[4 3 3]\n",
      "   [0 3 4]\n",
      "   [2 4 3]]\n",
      "\n",
      "  [[3 3 2]\n",
      "   [3 4 4]\n",
      "   [4 3 2]]\n",
      "\n",
      "  [[3 2 2]\n",
      "   [4 4 0]\n",
      "   [3 2 4]]\n",
      "\n",
      "  [[2 2 3]\n",
      "   [4 0 3]\n",
      "   [2 4 1]]\n",
      "\n",
      "  [[2 3 2]\n",
      "   [0 3 1]\n",
      "   [4 1 2]]]\n",
      "\n",
      "\n",
      " [[[3 2 3]\n",
      "   [3 2 3]\n",
      "   [4 3 2]]\n",
      "\n",
      "  [[2 3 0]\n",
      "   [2 3 2]\n",
      "   [3 2 4]]\n",
      "\n",
      "  [[3 0 3]\n",
      "   [3 2 4]\n",
      "   [2 4 0]]\n",
      "\n",
      "  [[0 3 4]\n",
      "   [2 4 3]\n",
      "   [4 0 1]]\n",
      "\n",
      "  [[3 4 4]\n",
      "   [4 3 2]\n",
      "   [0 1 4]]\n",
      "\n",
      "  [[4 4 0]\n",
      "   [3 2 4]\n",
      "   [1 4 3]]\n",
      "\n",
      "  [[4 0 3]\n",
      "   [2 4 1]\n",
      "   [4 3 3]]\n",
      "\n",
      "  [[0 3 1]\n",
      "   [4 1 2]\n",
      "   [3 3 2]]]\n",
      "\n",
      "\n",
      " [[[3 2 3]\n",
      "   [4 3 2]\n",
      "   [4 1 1]]\n",
      "\n",
      "  [[2 3 2]\n",
      "   [3 2 4]\n",
      "   [1 1 2]]\n",
      "\n",
      "  [[3 2 4]\n",
      "   [2 4 0]\n",
      "   [1 2 0]]\n",
      "\n",
      "  [[2 4 3]\n",
      "   [4 0 1]\n",
      "   [2 0 0]]\n",
      "\n",
      "  [[4 3 2]\n",
      "   [0 1 4]\n",
      "   [0 0 2]]\n",
      "\n",
      "  [[3 2 4]\n",
      "   [1 4 3]\n",
      "   [0 2 4]]\n",
      "\n",
      "  [[2 4 1]\n",
      "   [4 3 3]\n",
      "   [2 4 3]]\n",
      "\n",
      "  [[4 1 2]\n",
      "   [3 3 2]\n",
      "   [4 3 3]]]\n",
      "\n",
      "\n",
      " [[[4 3 2]\n",
      "   [4 1 1]\n",
      "   [3 1 4]]\n",
      "\n",
      "  [[3 2 4]\n",
      "   [1 1 2]\n",
      "   [1 4 3]]\n",
      "\n",
      "  [[2 4 0]\n",
      "   [1 2 0]\n",
      "   [4 3 3]]\n",
      "\n",
      "  [[4 0 1]\n",
      "   [2 0 0]\n",
      "   [3 3 0]]\n",
      "\n",
      "  [[0 1 4]\n",
      "   [0 0 2]\n",
      "   [3 0 2]]\n",
      "\n",
      "  [[1 4 3]\n",
      "   [0 2 4]\n",
      "   [0 2 2]]\n",
      "\n",
      "  [[4 3 3]\n",
      "   [2 4 3]\n",
      "   [2 2 1]]\n",
      "\n",
      "  [[3 3 2]\n",
      "   [4 3 3]\n",
      "   [2 1 3]]]\n",
      "\n",
      "\n",
      " [[[4 1 1]\n",
      "   [3 1 4]\n",
      "   [3 0 0]]\n",
      "\n",
      "  [[1 1 2]\n",
      "   [1 4 3]\n",
      "   [0 0 2]]\n",
      "\n",
      "  [[1 2 0]\n",
      "   [4 3 3]\n",
      "   [0 2 3]]\n",
      "\n",
      "  [[2 0 0]\n",
      "   [3 3 0]\n",
      "   [2 3 1]]\n",
      "\n",
      "  [[0 0 2]\n",
      "   [3 0 2]\n",
      "   [3 1 2]]\n",
      "\n",
      "  [[0 2 4]\n",
      "   [0 2 2]\n",
      "   [1 2 3]]\n",
      "\n",
      "  [[2 4 3]\n",
      "   [2 2 1]\n",
      "   [2 3 4]]\n",
      "\n",
      "  [[4 3 3]\n",
      "   [2 1 3]\n",
      "   [3 4 2]]]]\n"
     ]
    }
   ],
   "source": [
    "Z = np.random.randint(0,5,(10,10))\n",
    "n = 3\n",
    "i = 1 + (Z.shape[0] - n)\n",
    "j = 1 + (Z.shape[1] - n)\n",
    "C = stride_tricks.as_strided(Z, shape=(i, j, n, n), strides=Z.strides + Z.strides)\n",
    "print(C)"
   ]
  },
  {
   "cell_type": "markdown",
   "metadata": {},
   "source": [
    "Рассмотрим множество матриц (n,n) и множество из p векторов (n,1). Посчитать сумму p произведений матриц (результат имеет размерность (n,1))"
   ]
  },
  {
   "cell_type": "code",
   "execution_count": 72,
   "metadata": {},
   "outputs": [
    {
     "name": "stdout",
     "output_type": "stream",
     "text": [
      "[[200.]\n",
      " [200.]\n",
      " [200.]\n",
      " [200.]\n",
      " [200.]\n",
      " [200.]\n",
      " [200.]\n",
      " [200.]\n",
      " [200.]\n",
      " [200.]\n",
      " [200.]\n",
      " [200.]\n",
      " [200.]\n",
      " [200.]\n",
      " [200.]\n",
      " [200.]\n",
      " [200.]\n",
      " [200.]\n",
      " [200.]\n",
      " [200.]]\n"
     ]
    }
   ],
   "source": [
    "p, n = 10, 20\n",
    "M = np.ones((p,n,n))\n",
    "V = np.ones((p,n,1))\n",
    "S = np.tensordot(M, V, axes=[[0, 2], [0, 1]])\n",
    "print(S)\n"
   ]
  },
  {
   "cell_type": "markdown",
   "metadata": {},
   "source": [
    "Дан массив 16x16, посчитать сумму по блокам 4x4"
   ]
  },
  {
   "cell_type": "code",
   "execution_count": 76,
   "metadata": {},
   "outputs": [
    {
     "name": "stdout",
     "output_type": "stream",
     "text": [
      "[[16. 16. 16. 16.]\n",
      " [16. 16. 16. 16.]\n",
      " [16. 16. 16. 16.]\n",
      " [16. 16. 16. 16.]]\n"
     ]
    }
   ],
   "source": [
    "a = np.ones((16,16))\n",
    "n = 4\n",
    "S = np.add.reduceat(np.add.reduceat(a, np.arange(0, a.shape[0], n), axis=0),\n",
    "                                       np.arange(0, a.shape[1], n), axis=1)\n",
    "print(S)"
   ]
  },
  {
   "cell_type": "markdown",
   "metadata": {},
   "source": [
    "Найти n наибольших значений в массиве\n"
   ]
  },
  {
   "cell_type": "code",
   "execution_count": 89,
   "metadata": {},
   "outputs": [
    {
     "name": "stdout",
     "output_type": "stream",
     "text": [
      "[8 9 7 6 5]\n"
     ]
    }
   ],
   "source": [
    "a = np.arange(10)\n",
    "np.random.shuffle(a)\n",
    "n = 5\n",
    "print(a[np.argpartition(-a,n)[:n]])"
   ]
  },
  {
   "cell_type": "markdown",
   "metadata": {},
   "source": [
    "Построить прямое произведение массивов (все комбинации с каждым элементом)\n"
   ]
  },
  {
   "cell_type": "code",
   "execution_count": 17,
   "metadata": {},
   "outputs": [
    {
     "name": "stdout",
     "output_type": "stream",
     "text": [
      "[[1 4 6]\n",
      " [1 4 7]\n",
      " [1 5 6]\n",
      " [1 5 7]\n",
      " [2 4 6]\n",
      " [2 4 7]\n",
      " [2 5 6]\n",
      " [2 5 7]\n",
      " [3 4 6]\n",
      " [3 4 7]\n",
      " [3 5 6]\n",
      " [3 5 7]]\n"
     ]
    }
   ],
   "source": [
    "def cartesian(arrays):\n",
    "    arrays = [np.asarray(a) for a in arrays]\n",
    "    shape = map(len, arrays)\n",
    "\n",
    "    ix = np.indices(shape, dtype=int)\n",
    "    ix = ix.reshape(len(arrays), -1).T\n",
    "\n",
    "    for n, arr in enumerate(arrays):\n",
    "        ix[:, n] = arrays[n][ix[:, n]]\n",
    "\n",
    "    return ix\n",
    "\n",
    "print(cartesian(([1, 2, 3], [4, 5], [6, 7])))"
   ]
  },
  {
   "cell_type": "markdown",
   "metadata": {},
   "source": [
    "Даны 2 массива A (8x3) и B (2x2). Найти строки в A, которые содержат элементы из каждой строки в B, независимо от порядка элементов в B"
   ]
  },
  {
   "cell_type": "code",
   "execution_count": 18,
   "metadata": {},
   "outputs": [
    {
     "name": "stdout",
     "output_type": "stream",
     "text": [
      "[0 1 3 4 5 6 7]\n"
     ]
    }
   ],
   "source": [
    "A = np.random.randint(0,5,(8,3))\n",
    "B = np.random.randint(0,5,(2,2))\n",
    "\n",
    "C = (A[..., np.newaxis, np.newaxis] == B)\n",
    "rows = (C.sum(axis=(1,2,3)) >= B.shape[1]).nonzero()[0]\n",
    "print(rows)"
   ]
  },
  {
   "cell_type": "markdown",
   "metadata": {},
   "source": [
    "Дана 10x3 матрица, найти строки из неравных значений (например [2,2,3])\n"
   ]
  },
  {
   "cell_type": "code",
   "execution_count": 19,
   "metadata": {},
   "outputs": [
    {
     "name": "stdout",
     "output_type": "stream",
     "text": [
      "[[2 4 1]\n",
      " [3 0 2]\n",
      " [0 1 1]\n",
      " [2 2 2]\n",
      " [4 2 3]\n",
      " [2 3 2]\n",
      " [2 3 1]\n",
      " [0 1 3]\n",
      " [3 3 3]\n",
      " [1 3 4]]\n",
      "[[2 4 1]\n",
      " [3 0 2]\n",
      " [0 1 1]\n",
      " [4 2 3]\n",
      " [2 3 2]\n",
      " [2 3 1]\n",
      " [0 1 3]\n",
      " [1 3 4]]\n"
     ]
    }
   ],
   "source": [
    "Z = np.random.randint(0,5,(10,3))\n",
    "E = np.logical_and.reduce(Z[:,1:] == Z[:,:-1], axis=1)\n",
    "U = Z[~E]\n",
    "print(Z)\n",
    "print(U)"
   ]
  },
  {
   "cell_type": "markdown",
   "metadata": {},
   "source": [
    "Преобразовать вектор чисел в матрицу бинарных представлений"
   ]
  },
  {
   "cell_type": "code",
   "execution_count": 20,
   "metadata": {},
   "outputs": [
    {
     "name": "stdout",
     "output_type": "stream",
     "text": [
      "[[0 0 0 0 0 0 0 0]\n",
      " [0 0 0 0 0 0 0 1]\n",
      " [0 0 0 0 0 0 1 0]\n",
      " [0 0 0 0 0 0 1 1]\n",
      " [0 0 0 0 1 1 1 1]\n",
      " [0 0 0 1 0 0 0 0]\n",
      " [0 0 1 0 0 0 0 0]\n",
      " [0 1 0 0 0 0 0 0]\n",
      " [1 0 0 0 0 0 0 0]]\n"
     ]
    }
   ],
   "source": [
    "I = np.array([0, 1, 2, 3, 15, 16, 32, 64, 128], dtype=np.uint8)\n",
    "print(np.unpackbits(I[:, np.newaxis], axis=1))"
   ]
  },
  {
   "cell_type": "markdown",
   "metadata": {},
   "source": [
    "Дан двумерный массив. Найти все различные строки\n"
   ]
  },
  {
   "cell_type": "code",
   "execution_count": 21,
   "metadata": {},
   "outputs": [
    {
     "name": "stdout",
     "output_type": "stream",
     "text": [
      "[[0 0 1]\n",
      " [0 1 0]\n",
      " [0 1 1]\n",
      " [1 0 0]]\n"
     ]
    }
   ],
   "source": [
    "Z = np.random.randint(0, 2, (6,3))\n",
    "T = np.ascontiguousarray(Z).view(np.dtype((np.void, Z.dtype.itemsize * Z.shape[1])))\n",
    "_, idx = np.unique(T, return_index=True)\n",
    "uZ = Z[idx]\n",
    "print(uZ)"
   ]
  },
  {
   "cell_type": "markdown",
   "metadata": {},
   "source": [
    "Даны векторы A и B, написать einsum эквиваленты функций inner, outer, sum и mul"
   ]
  },
  {
   "cell_type": "code",
   "execution_count": 110,
   "metadata": {},
   "outputs": [
    {
     "name": "stdout",
     "output_type": "stream",
     "text": [
      "10\n",
      "[ 0  1  4  9 16]\n",
      "30\n",
      "[[0 1 2 3 4]\n",
      " [0 2 4 6 8]]\n"
     ]
    }
   ],
   "source": [
    "a = np.arange(5)\n",
    "b = np.arange(5)\n",
    "print(np.einsum('i->', a))            # np.sum(A)\n",
    "print(np.einsum('i,i->i', a, b))    # A * B\n",
    "print(np.einsum('i,i', a, b))   # np.inner(A, B)\n",
    "print(np.einsum('i,j', np.arange(2)+1, b))      # np.outer(A, B)"
   ]
  },
  {
   "cell_type": "code",
   "execution_count": null,
   "metadata": {},
   "outputs": [],
   "source": []
  }
 ],
 "metadata": {
  "kernelspec": {
   "display_name": "Python 3",
   "language": "python",
   "name": "python3"
  },
  "language_info": {
   "codemirror_mode": {
    "name": "ipython",
    "version": 3
   },
   "file_extension": ".py",
   "mimetype": "text/x-python",
   "name": "python",
   "nbconvert_exporter": "python",
   "pygments_lexer": "ipython3",
   "version": "3.8.3"
  }
 },
 "nbformat": 4,
 "nbformat_minor": 4
}
