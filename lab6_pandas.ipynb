{
 "cells": [
  {
   "cell_type": "markdown",
   "metadata": {},
   "source": [
    "# Отчет по лабораторной работе №6 \"Pandas\"\n",
    "## Выполнила студентка группы T12О-101М-20\n",
    "## \"Управление продуктовой разработкой it сервисов\"\n",
    "\n",
    "### Давыдова Елизавета\n",
    "#### 28.11.2020\n"
   ]
  },
  {
   "cell_type": "code",
   "execution_count": 11,
   "metadata": {},
   "outputs": [],
   "source": [
    "import numpy as np\n",
    "import pandas as pd\n",
    "from pandas import Series, DataFrame\n",
    "from math import sqrt"
   ]
  },
  {
   "cell_type": "markdown",
   "metadata": {},
   "source": [
    " Найти евклидово расстояние между двумя объектами Series\n"
   ]
  },
  {
   "cell_type": "code",
   "execution_count": 16,
   "metadata": {},
   "outputs": [
    {
     "name": "stdout",
     "output_type": "stream",
     "text": [
      "0    5\n",
      "1    5\n",
      "2    9\n",
      "dtype: int32\n",
      "0    5\n",
      "1    8\n",
      "2    7\n",
      "dtype: int32\n"
     ]
    }
   ],
   "source": [
    "s1 = pd.Series(np.random.randint(low=1, high=10, size=[3]))\n",
    "s2 = pd.Series(np.random.randint(low=1, high=10, size=[3]))\n",
    "ans2 = sqrt(sum((s1-s2)**2))"
   ]
  },
  {
   "cell_type": "markdown",
   "metadata": {},
   "source": [
    " Найти индексы локальных максимумов в объекте Series\n"
   ]
  },
  {
   "cell_type": "code",
   "execution_count": 18,
   "metadata": {},
   "outputs": [
    {
     "name": "stdout",
     "output_type": "stream",
     "text": [
      "[ 4  2  4 -3 -4  8 -7  3  8 -8]\n",
      "[3 6 9]\n"
     ]
    }
   ],
   "source": [
    "s = pd.Series([1, 5, 7, 11, 8, 4, 12, 5, 8, 16, 8])\n",
    "dd = np.diff(np.sign(np.diff(s)))\n",
    "ans = np.where(dd == -2)[0] + 1\n",
    "print(ans)"
   ]
  },
  {
   "cell_type": "markdown",
   "metadata": {},
   "source": [
    " Заменить пробелы наименее часто встречающимся символов\n"
   ]
  },
  {
   "cell_type": "code",
   "execution_count": 25,
   "metadata": {},
   "outputs": [
    {
     "data": {
      "text/plain": [
       "'abb32bbb312331aab'"
      ]
     },
     "execution_count": 25,
     "metadata": {},
     "output_type": "execute_result"
    }
   ],
   "source": [
    "my_str = 'abb 2bbb 123 1aab'\n",
    "s = pd.Series(list(my_str))\n",
    "f = s.value_counts()\n",
    "n = f.dropna().index[-1]\n",
    "''.join(s.replace(' ', n))"
   ]
  },
  {
   "cell_type": "markdown",
   "metadata": {},
   "source": [
    " Создать объект Series, который содержит в индексах даты выходных дней субботы, а в значениях случайные числа от 1 до 10\n"
   ]
  },
  {
   "cell_type": "code",
   "execution_count": 26,
   "metadata": {},
   "outputs": [
    {
     "name": "stdout",
     "output_type": "stream",
     "text": [
      "2020-01-04    4\n",
      "2020-01-11    2\n",
      "2020-01-18    3\n",
      "2020-01-25    5\n",
      "2020-02-01    6\n",
      "2020-02-08    4\n",
      "2020-02-15    1\n",
      "2020-02-22    9\n",
      "2020-02-29    9\n",
      "2020-03-07    4\n",
      "Freq: W-SAT, dtype: int32\n"
     ]
    }
   ],
   "source": [
    "s = pd.Series(np.random.randint(low=1,high=10,size=[10]), pd.date_range('2020-01-01', periods=10, freq='W-SAT'))\n",
    "print(s)"
   ]
  },
  {
   "cell_type": "markdown",
   "metadata": {},
   "source": [
    " Заполнить пропущенные даты, значением выше (заполненной даты)\n"
   ]
  },
  {
   "cell_type": "code",
   "execution_count": 28,
   "metadata": {},
   "outputs": [
    {
     "name": "stdout",
     "output_type": "stream",
     "text": [
      "2020-01-01    2.0\n",
      "2020-01-02    2.0\n",
      "2020-01-03    5.0\n",
      "2020-01-04    5.0\n",
      "2020-01-05    5.0\n",
      "2020-01-06    8.0\n",
      "2020-01-07    8.0\n",
      "2020-01-08    NaN\n",
      "Freq: D, dtype: float64\n"
     ]
    }
   ],
   "source": [
    "s = pd.Series([2, 5, 8, np.nan, 10], index=pd.to_datetime(['2020-01-01', '2020-01-03', '2020-01-06', '2020-01-08']))\n",
    "sf = s.resample('D').bfill()\n",
    "print(sf)"
   ]
  },
  {
   "cell_type": "markdown",
   "metadata": {},
   "source": [
    " Вычислить автокорреляцию объекта Series\n"
   ]
  },
  {
   "cell_type": "code",
   "execution_count": 32,
   "metadata": {},
   "outputs": [
    {
     "data": {
      "text/plain": [
       "1.0"
      ]
     },
     "execution_count": 32,
     "metadata": {},
     "output_type": "execute_result"
    }
   ],
   "source": [
    "pd.Series(np.arange(5)).autocorr() "
   ]
  }
 ],
 "metadata": {
  "kernelspec": {
   "display_name": "Python 3",
   "language": "python",
   "name": "python3"
  },
  "language_info": {
   "codemirror_mode": {
    "name": "ipython",
    "version": 3
   },
   "file_extension": ".py",
   "mimetype": "text/x-python",
   "name": "python",
   "nbconvert_exporter": "python",
   "pygments_lexer": "ipython3",
   "version": "3.8.3"
  }
 },
 "nbformat": 4,
 "nbformat_minor": 4
}
